{
  "nbformat": 4,
  "nbformat_minor": 0,
  "metadata": {
    "colab": {
      "name": "lao-thai.ipynb",
      "provenance": [],
      "collapsed_sections": [],
      "authorship_tag": "ABX9TyPm4TgabqY7uXmX2JKYbGrA",
      "include_colab_link": true
    },
    "kernelspec": {
      "name": "python3",
      "display_name": "Python 3"
    }
  },
  "cells": [
    {
      "cell_type": "markdown",
      "metadata": {
        "id": "view-in-github",
        "colab_type": "text"
      },
      "source": [
        "<a href=\"https://colab.research.google.com/github/PyThaiNLP/lao-language/blob/master/lao_thai.ipynb\" target=\"_parent\"><img src=\"https://colab.research.google.com/assets/colab-badge.svg\" alt=\"Open In Colab\"/></a>"
      ]
    },
    {
      "cell_type": "markdown",
      "metadata": {
        "id": "T2fuDDMGrdE1",
        "colab_type": "text"
      },
      "source": [
        "# Naive Lao script to Thai script transliteration\n",
        "\n",
        "From https://github.com/google/language-resources/blob/master/lo/Laoo-Thai.txt\n",
        "\n",
        "Licence : MIT License\n",
        "\n",
        "Code by Wannaphong Phatthiyaphaibun wannaphong@kkumail.com"
      ]
    },
    {
      "cell_type": "code",
      "metadata": {
        "id": "Rbwu7dtyZ2SR",
        "colab_type": "code",
        "colab": {}
      },
      "source": [
        "data = {\"\\u0e81\":\"\\u0e01\",\n",
        "\"\\u0e82\":\"\\u0e02\",\n",
        "\"\\u0e84\":\"\\u0e04\",\n",
        "\"\\u0e87\":\"\\u0e07\",\n",
        "\"\\u0e88\":\"\\u0e08\",\n",
        "\"\\u0e8a\":\"\\u0e0a\",\n",
        "\"\\u0e8d\":\"\\u0e0d\",\n",
        "\"\\u0e94\":\"\\u0e14\",\n",
        "\"\\u0e95\":\"\\u0e15\",\n",
        "\"\\u0e96\":\"\\u0e16\",\n",
        "\"\\u0e97\":\"\\u0e17\",\n",
        "\"\\u0e99\":\"\\u0e19\",\n",
        "\"\\u0e9a\":\"\\u0e1a\",\n",
        "\"\\u0e9b\":\"\\u0e1b\",\n",
        "\"\\u0e9c\":\"\\u0e1c\",\n",
        "\"\\u0e9d\":\"\\u0e1d\",\n",
        "\"\\u0e9e\":\"\\u0e1e\",\n",
        "\"\\u0e9f\":\"\\u0e1f\",\n",
        "\"\\u0ea1\":\"\\u0e21\",\n",
        "\"\\u0ea2\":\"\\u0e22\",\n",
        "\"\\u0ea3\":\"\\u0e23\",\n",
        "\"\\u0ea5\":\"\\u0e25\",\n",
        "\"\\u0ea7\":\"\\u0e27\",\n",
        "\"\\u0eaa\":\"\\u0e2a\",\n",
        "\"\\u0eab\":\"\\u0e2b\",\n",
        "\"\\u0ead\":\"\\u0e2d\",\n",
        "\"\\u0eae\":\"\\u0e2e\",\n",
        "\"\\u0eaf\":\"\\u0e2f\",\n",
        "\"\\u0eb0\":\"\\u0e30\",\n",
        "\"\\u0eb1\":\"\\u0e31\",\n",
        "\"\\u0eb2\":\"\\u0e32\",\n",
        "\"\\u0eb3\":\"\\u0e33\",\n",
        "\"\\u0eb4\":\"\\u0e34\",\n",
        "\"\\u0eb5\":\"\\u0e35\",\n",
        "\"\\u0eb6\":\"\\u0e36\",\n",
        "\"\\u0eb7\":\"\\u0e37\",\n",
        "\"\\u0eb8\":\"\\u0e38\",\n",
        "\"\\u0eb9\":\"\\u0e39\",\n",
        "\"\\u0ebc\":\"\\u0e25\",\n",
        "\"\\u0ebd\":\"\\u0e0d\",\n",
        "\"\\u0ec0\":\"\\u0e40\",\n",
        "\"\\u0ec1\":\"\\u0e41\",\n",
        "\"\\u0ec2\":\"\\u0e42\",\n",
        "\"\\u0ec3\":\"\\u0e43\",\n",
        "\"\\u0ec4\":\"\\u0e44\",\n",
        "\"\\u0ec6\":\"\\u0e46\",\n",
        "\"\\u0ec8\":\"\\u0e48\",\n",
        "\"\\u0ec9\":\"\\u0e49\",\n",
        "\"\\u0eca\":\"\\u0e4a\",\n",
        "\"\\u0ecb\":\"\\u0e4b\",\n",
        "\"\\u0ecc\":\"\\u0e4c\",\n",
        "\"\\u0ecd\":\"\\u0e4d\",\n",
        "\"\\u0ed0\":\"\\u0e50\",\n",
        "\"\\u0ed1\":\"\\u0e51\",\n",
        "\"\\u0ed2\":\"\\u0e52\",\n",
        "\"\\u0ed3\":\"\\u0e53\",\n",
        "\"\\u0ed4\":\"\\u0e54\",\n",
        "\"\\u0ed5\":\"\\u0e55\",\n",
        "\"\\u0ed6\":\"\\u0e56\",\n",
        "\"\\u0ed7\":\"\\u0e57\",\n",
        "\"\\u0ed8\":\"\\u0e58\",\n",
        "\"\\u0ed9\":\"\\u0e59\",\n",
        "\"\\u0edc\":\"\\u0e2b\\u0e19\",\n",
        "\"\\u0edd\":\"\\u0e2b\\u0e21\"}"
      ],
      "execution_count": 0,
      "outputs": []
    },
    {
      "cell_type": "code",
      "metadata": {
        "id": "Gjh-uiUBaGsF",
        "colab_type": "code",
        "colab": {}
      },
      "source": [
        "lao = list(data.keys())"
      ],
      "execution_count": 0,
      "outputs": []
    },
    {
      "cell_type": "code",
      "metadata": {
        "id": "twe1PcsfaIYQ",
        "colab_type": "code",
        "outputId": "63c7b733-47b1-4e78-d0b4-cc4e91ae12d0",
        "colab": {
          "base_uri": "https://localhost:8080/",
          "height": 34
        }
      },
      "source": [
        "def transliteration(sent):\n",
        "  sent_new = \"\"\n",
        "  for i in sent:\n",
        "    if i in lao:\n",
        "      sent_new+=data[i]\n",
        "    else:\n",
        "      sent_new+=i\n",
        "  return sent_new"
      ],
      "execution_count": 0,
      "outputs": [
        {
          "output_type": "stream",
          "text": [
            "ERROR! Session/line number was not unique in database. History logging moved to new session 62\n"
          ],
          "name": "stdout"
        }
      ]
    },
    {
      "cell_type": "code",
      "metadata": {
        "id": "PCdnMu7UaZzQ",
        "colab_type": "code",
        "outputId": "6405e879-910b-4ade-ec9e-ea9647055fd9",
        "colab": {
          "base_uri": "https://localhost:8080/",
          "height": 34
        }
      },
      "source": [
        "transliteration(\"ພາສາລາວ\")"
      ],
      "execution_count": 0,
      "outputs": [
        {
          "output_type": "execute_result",
          "data": {
            "text/plain": [
              "'พาสาลาว'"
            ]
          },
          "metadata": {
            "tags": []
          },
          "execution_count": 4
        }
      ]
    },
    {
      "cell_type": "code",
      "metadata": {
        "id": "sYAcZAMwajbO",
        "colab_type": "code",
        "outputId": "ecb9bb8f-a0c8-4ca3-9ace-79e22f780444",
        "colab": {
          "base_uri": "https://localhost:8080/",
          "height": 34
        }
      },
      "source": [
        "transliteration(\"ເຈົ້າ\")"
      ],
      "execution_count": 0,
      "outputs": [
        {
          "output_type": "execute_result",
          "data": {
            "text/plain": [
              "'เจົ้า'"
            ]
          },
          "metadata": {
            "tags": []
          },
          "execution_count": 5
        }
      ]
    },
    {
      "cell_type": "code",
      "metadata": {
        "id": "USNL4T_raoQO",
        "colab_type": "code",
        "outputId": "098cb60a-e2ce-4b1a-b462-2f3190b5e643",
        "colab": {
          "base_uri": "https://localhost:8080/",
          "height": 34
        }
      },
      "source": [
        "transliteration(\"ພາສາລາວ-ວັນນະຄະດີ\")"
      ],
      "execution_count": 0,
      "outputs": [
        {
          "output_type": "execute_result",
          "data": {
            "text/plain": [
              "'พาสาลาว-วันนะคะดี'"
            ]
          },
          "metadata": {
            "tags": []
          },
          "execution_count": 6
        }
      ]
    },
    {
      "cell_type": "code",
      "metadata": {
        "id": "DkARXm9fjOoi",
        "colab_type": "code",
        "outputId": "09212a3a-b69f-44b8-fd80-fee735662b41",
        "colab": {
          "base_uri": "https://localhost:8080/",
          "height": 34
        }
      },
      "source": [
        "transliteration(\"ໜ້າ ໃນໝວດນີ້ \")"
      ],
      "execution_count": 0,
      "outputs": [
        {
          "output_type": "execute_result",
          "data": {
            "text/plain": [
              "'หน้า ในหมวดนี้ '"
            ]
          },
          "metadata": {
            "tags": []
          },
          "execution_count": 7
        }
      ]
    },
    {
      "cell_type": "code",
      "metadata": {
        "id": "P6ROW9mamnMq",
        "colab_type": "code",
        "outputId": "106ef2f5-c54d-46ee-96cb-98e97dd7767c",
        "colab": {
          "base_uri": "https://localhost:8080/",
          "height": 34
        }
      },
      "source": [
        "transliteration(\"ວິຊາ ພາສາລາວ + ວັນນະຄະດີ ຊັ້ນ ມ.1-7\")"
      ],
      "execution_count": 0,
      "outputs": [
        {
          "output_type": "execute_result",
          "data": {
            "text/plain": [
              "'วิชา พาสาลาว + วันนะคะดี ชั้น ม.1-7'"
            ]
          },
          "metadata": {
            "tags": []
          },
          "execution_count": 8
        }
      ]
    },
    {
      "cell_type": "code",
      "metadata": {
        "id": "zUGOZIgVm0m2",
        "colab_type": "code",
        "outputId": "530d8a80-f2f4-488a-8426-b24ea608c0d8",
        "colab": {
          "base_uri": "https://localhost:8080/",
          "height": 34
        }
      },
      "source": [
        "transliteration(\"ພາສາລາວ (Lao). ໂປດຊາບ: ຖ້າວ່າ ທ່ານເວົ້າພາສາ ລາວ, ການບໍລິການຊ່ວຍເຫຼືອດ້ານພາສາ, ໂດຍບໍ່ເສັຽຄ່າ,. ແມ່ນມີພ້ອມໃຫ້ທ່ານ.\")"
      ],
      "execution_count": 0,
      "outputs": [
        {
          "output_type": "execute_result",
          "data": {
            "text/plain": [
              "'พาสาลาว (Lao). โปดชาบ: ถ้าว่า ท่านเวົ้าพาสา ลาว, กานบํลิกานช่วญเหลือด้านพาสา, โดญบํ่เสัญค่า,. แม่นมีพ้อมให้ท่าน.'"
            ]
          },
          "metadata": {
            "tags": []
          },
          "execution_count": 9
        }
      ]
    },
    {
      "cell_type": "code",
      "metadata": {
        "id": "LU7BVE80aXsE",
        "colab_type": "code",
        "outputId": "17c74c42-fcf6-474f-e099-358cbb20736a",
        "colab": {
          "base_uri": "https://localhost:8080/",
          "height": 34
        }
      },
      "source": [
        "transliteration(\"ເຊີນທ່ານ ຮັບຟັງ ບົດສລູບ ປວັດ ຄວາມເປັນມາ ຂອງ ພາສາລາວ ແລະ ການ ປະຕິຮູບ ໃນລະຍະ ກ່ອນ ແລະຫລັງ ປີ 1975, ຊຶ່ງ ເປັນຕອນ ສຸດທ້າຍ.\")"
      ],
      "execution_count": 0,
      "outputs": [
        {
          "output_type": "execute_result",
          "data": {
            "text/plain": [
              "'เชีนท่าน ฮับฟัง บົดสลูบ ปวัด ความเปันมา ของ พาสาลาว และ กาน ปะติฮูบ ในละญะ ก่อน และหลัง ปี 1975, ชึ่ง เปันตอน สุดท้าญ.'"
            ]
          },
          "metadata": {
            "tags": []
          },
          "execution_count": 10
        }
      ]
    },
    {
      "cell_type": "code",
      "metadata": {
        "id": "MZ30HXMvaOCV",
        "colab_type": "code",
        "colab": {}
      },
      "source": [
        ""
      ],
      "execution_count": 0,
      "outputs": []
    },
    {
      "cell_type": "code",
      "metadata": {
        "id": "QZ8itZECaKVx",
        "colab_type": "code",
        "colab": {}
      },
      "source": [
        ""
      ],
      "execution_count": 0,
      "outputs": []
    }
  ]
}