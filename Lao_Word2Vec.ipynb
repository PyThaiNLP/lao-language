{
  "nbformat": 4,
  "nbformat_minor": 0,
  "metadata": {
    "colab": {
      "name": "Lao-Word2Vec.ipynb",
      "provenance": [],
      "collapsed_sections": [],
      "authorship_tag": "ABX9TyNmlqiF4d8iZmS31b6reRRH",
      "include_colab_link": true
    },
    "kernelspec": {
      "name": "python3",
      "display_name": "Python 3"
    }
  },
  "cells": [
    {
      "cell_type": "markdown",
      "metadata": {
        "id": "view-in-github",
        "colab_type": "text"
      },
      "source": [
        "<a href=\"https://colab.research.google.com/github/PyThaiNLP/lao-language/blob/master/Lao_Word2Vec.ipynb\" target=\"_parent\"><img src=\"https://colab.research.google.com/assets/colab-badge.svg\" alt=\"Open In Colab\"/></a>"
      ]
    },
    {
      "cell_type": "markdown",
      "metadata": {
        "id": "LwwOptiWYvYF",
        "colab_type": "text"
      },
      "source": [
        "# Lao Word Embedding using Word2Vec\n",
        "\n",
        "Data from https://traces1.inria.fr/oscar/\n",
        "\n",
        "Python | Word Embedding using Word2Vec https://www.geeksforgeeks.org/python-word-embedding-using-word2vec/"
      ]
    },
    {
      "cell_type": "code",
      "metadata": {
        "id": "MmrKXZ9_WYgh",
        "colab_type": "code",
        "colab": {}
      },
      "source": [
        "!wget https://traces1.inria.fr/oscar/files/compressed-orig/lo.txt.gz"
      ],
      "execution_count": 0,
      "outputs": []
    },
    {
      "cell_type": "code",
      "metadata": {
        "id": "6Qi6GJIPWaGN",
        "colab_type": "code",
        "colab": {}
      },
      "source": [
        "!gunzip lo.txt.gz"
      ],
      "execution_count": 0,
      "outputs": []
    },
    {
      "cell_type": "code",
      "metadata": {
        "id": "j9bT4L4hWh8h",
        "colab_type": "code",
        "colab": {}
      },
      "source": [
        "ls"
      ],
      "execution_count": 0,
      "outputs": []
    },
    {
      "cell_type": "code",
      "metadata": {
        "id": "jiylUsmjWiuc",
        "colab_type": "code",
        "colab": {}
      },
      "source": [
        "ls -l --block-size=M lo.txt"
      ],
      "execution_count": 0,
      "outputs": []
    },
    {
      "cell_type": "code",
      "metadata": {
        "id": "SR6k8BpkW-wn",
        "colab_type": "code",
        "colab": {}
      },
      "source": [
        "!pip install pythainlp"
      ],
      "execution_count": 0,
      "outputs": []
    },
    {
      "cell_type": "code",
      "metadata": {
        "id": "hCeCf69hXGrI",
        "colab_type": "code",
        "colab": {}
      },
      "source": [
        "!wget https://github.com/google/language-resources/raw/master/lo/data_sets/lo_spellcheck_dict.txt"
      ],
      "execution_count": 0,
      "outputs": []
    },
    {
      "cell_type": "code",
      "metadata": {
        "id": "02IeHfwwWuq0",
        "colab_type": "code",
        "colab": {}
      },
      "source": [
        "import gensim \n",
        "from gensim.models import Word2Vec "
      ],
      "execution_count": 0,
      "outputs": []
    },
    {
      "cell_type": "code",
      "metadata": {
        "id": "0A4Hhhs4W-C_",
        "colab_type": "code",
        "colab": {}
      },
      "source": [
        "from pythainlp.tokenize import Tokenizer"
      ],
      "execution_count": 0,
      "outputs": []
    },
    {
      "cell_type": "code",
      "metadata": {
        "id": "PsE70ZbmWnhN",
        "colab_type": "code",
        "colab": {}
      },
      "source": [
        "lao_ws = Tokenizer(\"lo_spellcheck_dict.txt\", engine = \"mm\")"
      ],
      "execution_count": 0,
      "outputs": []
    },
    {
      "cell_type": "code",
      "metadata": {
        "id": "ZeCQ933AXLym",
        "colab_type": "code",
        "colab": {}
      },
      "source": [
        "with open(\"lo.txt\", \"r\",encoding=\"utf-8-sig\") as f:\n",
        "  s = [i.strip() for i in f.readlines()]"
      ],
      "execution_count": 0,
      "outputs": []
    },
    {
      "cell_type": "code",
      "metadata": {
        "id": "08-hb0aiXmex",
        "colab_type": "code",
        "colab": {}
      },
      "source": [
        "len(s)"
      ],
      "execution_count": 0,
      "outputs": []
    },
    {
      "cell_type": "code",
      "metadata": {
        "id": "9QBaT78XXcjF",
        "colab_type": "code",
        "colab": {}
      },
      "source": [
        "from tqdm import tqdm\n",
        "data = []"
      ],
      "execution_count": 0,
      "outputs": []
    },
    {
      "cell_type": "code",
      "metadata": {
        "id": "PL7FTncdXe2C",
        "colab_type": "code",
        "colab": {}
      },
      "source": [
        "# iterate through each sentence in the file \n",
        "for i in tqdm(s): \n",
        "    temp = [] \n",
        "      \n",
        "    # tokenize the sentence into words \n",
        "    for j in lao_ws.word_tokenize(i): \n",
        "        temp.append(j.lower()) \n",
        "  \n",
        "    data.append(temp) "
      ],
      "execution_count": 0,
      "outputs": []
    },
    {
      "cell_type": "code",
      "metadata": {
        "id": "PwdT43doXUZu",
        "colab_type": "code",
        "colab": {}
      },
      "source": [
        "#CBOW model\n",
        "model = gensim.models.Word2Vec(data, min_count = 1,  \n",
        "                              size = 300, window = 5) "
      ],
      "execution_count": 0,
      "outputs": []
    },
    {
      "cell_type": "code",
      "metadata": {
        "id": "8D0pYkSFbDHT",
        "colab_type": "code",
        "colab": {}
      },
      "source": [
        "print(\"Cosine similarity between 'ວຽງຈັນ' \" +\n",
        "          \"and 'ເມືອງ' - Skip Gram : \", \n",
        "    model.similarity('ວຽງຈັນ', 'ເມືອງ')) "
      ],
      "execution_count": 0,
      "outputs": []
    },
    {
      "cell_type": "code",
      "metadata": {
        "id": "KybdqK1BYS0F",
        "colab_type": "code",
        "colab": {}
      },
      "source": [
        "# Skip Gram model \n",
        "model2 = gensim.models.Word2Vec(data, min_count = 1, size = 300, \n",
        "                                             window = 5, sg = 1) "
      ],
      "execution_count": 0,
      "outputs": []
    },
    {
      "cell_type": "code",
      "metadata": {
        "id": "pojeG4PBaQSg",
        "colab_type": "code",
        "colab": {}
      },
      "source": [
        "print(\"Cosine similarity between 'ວຽງຈັນ' \" +\n",
        "          \"and 'ເມືອງ' - Skip Gram : \", \n",
        "    model2.similarity('ວຽງຈັນ', 'ເມືອງ')) "
      ],
      "execution_count": 0,
      "outputs": []
    }
  ]
}